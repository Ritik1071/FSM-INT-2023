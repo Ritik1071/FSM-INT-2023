{
 "cells": [
  {
   "cell_type": "code",
   "execution_count": 6,
   "id": "a036d5d3",
   "metadata": {},
   "outputs": [],
   "source": [
    "import streamlit as st\n",
    "import pandas as pd\n",
    "import numpy as np\n",
    "#import matplotlib.pyplot as plt\n",
    "#import seaborn as sns\n",
    "from sklearn.preprocessing import MinMaxScaler\n",
    "from sklearn.linear_model import LinearRegression\n",
    "from sklearn.metrics import mean_squared_error"
   ]
  },
  {
   "cell_type": "code",
   "execution_count": 7,
   "id": "f47496ca",
   "metadata": {},
   "outputs": [],
   "source": [
    "# Load the dataset and perform preprocessing\n",
    "df = pd.read_csv('train_FD001.txt', sep=\" \", header=None)\n",
    "columns_to_drop = [27, 26]\n",
    "df = df.drop(df.columns[columns_to_drop], axis=1)"
   ]
  },
  {
   "cell_type": "code",
   "execution_count": 8,
   "id": "a8fe7981",
   "metadata": {},
   "outputs": [],
   "source": [
    "df.columns = df.columns.astype(str)\n",
    "column_names = df.columns"
   ]
  },
  {
   "cell_type": "code",
   "execution_count": 9,
   "id": "546db819",
   "metadata": {},
   "outputs": [],
   "source": [
    "new_column_names = {\n",
    "    '0': 'Engine_Unit_Number',\n",
    "    '1': 'Time_In_Cycles',\n",
    "    '2': 'Operating_settings_1',\n",
    "    '3': 'Operating_settings_2',\n",
    "    '4': 'Operating_settings_3',\n",
    "    '5': 'Sensor_readings_1',\n",
    "    '6': 'Sensor_readings_2',\n",
    "    '7': 'Sensor_readings_3',\n",
    "    '8': 'Sensor_readings_4',\n",
    "    '9': 'Sensor_readings_5',\n",
    "    '10': 'Sensor_readings_6',\n",
    "    '11': 'Sensor_readings_7',\n",
    "    '12': 'Sensor_readings_8',\n",
    "    '13': 'Sensor_readings_9',\n",
    "    '14': 'Sensor_readings_10',\n",
    "    '15': 'Sensor_readings_11',\n",
    "    '16': 'Sensor_readings_12',\n",
    "    '17': 'Sensor_readings_13',\n",
    "    '18': 'Sensor_readings_14',\n",
    "    '19': 'Sensor_readings_15',\n",
    "    '20': 'Sensor_readings_16',\n",
    "    '21': 'Sensor_readings_17',\n",
    "    '22': 'Sensor_readings_18',\n",
    "    '23': 'Sensor_readings_19',\n",
    "    '24': 'Sensor_readings_20',\n",
    "    '25': 'Sensor_readings_21'\n",
    "}\n",
    "\n",
    "\n"
   ]
  },
  {
   "cell_type": "code",
   "execution_count": 10,
   "id": "d6f8faae",
   "metadata": {},
   "outputs": [],
   "source": [
    "df = df.rename(columns=new_column_names)"
   ]
  },
  {
   "cell_type": "code",
   "execution_count": 11,
   "id": "81ae13cb",
   "metadata": {},
   "outputs": [],
   "source": [
    "# Drop columns with low fluctuations and add Remaining Useful Life (RUL) column\n",
    "drop_columns = ['Sensor_readings_18', 'Sensor_readings_19', 'Sensor_readings_10', 'Sensor_readings_1']\n",
    "df = df.drop(drop_columns, axis=1)"
   ]
  },
  {
   "cell_type": "code",
   "execution_count": 12,
   "id": "478217f8",
   "metadata": {},
   "outputs": [],
   "source": [
    "def add_remaining_useful_life(df):\n",
    "    # Getting the total number of cycles for each unit\n",
    "    grouped_by_unit = df.groupby(by=\"Engine_Unit_Number\")\n",
    "    max_cycle = grouped_by_unit[\"Time_In_Cycles\"].max()\n",
    "\n",
    "    # Merging the max cycle back into the original frame\n",
    "    result_frame = df.merge(max_cycle.to_frame(name='max_cycle'), left_on='Engine_Unit_Number', right_index=True)\n",
    "\n",
    "    # Calculating remaining useful life for each row\n",
    "    remaining_useful_life = result_frame[\"max_cycle\"] - result_frame[\"Time_In_Cycles\"]\n",
    "    result_frame[\"RUL\"] = remaining_useful_life\n",
    "\n",
    "    # dropping max_cycle as it's no longer needed\n",
    "    result_frame = result_frame.drop(\"max_cycle\", axis=1)\n",
    "    return result_frame\n",
    "\n",
    "df = add_remaining_useful_life(df)"
   ]
  },
  {
   "cell_type": "code",
   "execution_count": 13,
   "id": "46565bb5",
   "metadata": {},
   "outputs": [],
   "source": [
    "# Normalize selected columns\n",
    "columns_to_normalize = ['Operating_settings_1', 'Operating_settings_2', 'Operating_settings_3',\n",
    "                        'Sensor_readings_2', 'Sensor_readings_3', 'Sensor_readings_4',\n",
    "                        'Sensor_readings_7', 'Sensor_readings_8', 'Sensor_readings_9',\n",
    "                        'Sensor_readings_11', 'Sensor_readings_12', 'Sensor_readings_13',\n",
    "                        'Sensor_readings_14', 'Sensor_readings_15', 'Sensor_readings_17',\n",
    "                        'Sensor_readings_20', 'Sensor_readings_21']\n",
    "\n",
    "columns_data = df[columns_to_normalize]\n",
    "scaler = MinMaxScaler()\n",
    "normalized_data = scaler.fit_transform(columns_data)\n",
    "df[columns_to_normalize] = normalized_data"
   ]
  },
  {
   "cell_type": "code",
   "execution_count": 14,
   "id": "8396a0f5",
   "metadata": {},
   "outputs": [],
   "source": [
    "# Train the Linear Regression model\n",
    "x_train_lr = df[['Operating_settings_1', 'Operating_settings_2', 'Operating_settings_3',\n",
    "                'Sensor_readings_2', 'Sensor_readings_3', 'Sensor_readings_4',\n",
    "                'Sensor_readings_7', 'Sensor_readings_8', 'Sensor_readings_9',\n",
    "                'Sensor_readings_11', 'Sensor_readings_12', 'Sensor_readings_13',\n",
    "                'Sensor_readings_14', 'Sensor_readings_15', 'Sensor_readings_17',\n",
    "                'Sensor_readings_20', 'Sensor_readings_21']]\n",
    "y_train_lr = df['RUL']\n",
    "\n"
   ]
  },
  {
   "cell_type": "code",
   "execution_count": 15,
   "id": "b5745afb",
   "metadata": {},
   "outputs": [
    {
     "data": {
      "text/html": [
       "<style>#sk-container-id-1 {color: black;}#sk-container-id-1 pre{padding: 0;}#sk-container-id-1 div.sk-toggleable {background-color: white;}#sk-container-id-1 label.sk-toggleable__label {cursor: pointer;display: block;width: 100%;margin-bottom: 0;padding: 0.3em;box-sizing: border-box;text-align: center;}#sk-container-id-1 label.sk-toggleable__label-arrow:before {content: \"▸\";float: left;margin-right: 0.25em;color: #696969;}#sk-container-id-1 label.sk-toggleable__label-arrow:hover:before {color: black;}#sk-container-id-1 div.sk-estimator:hover label.sk-toggleable__label-arrow:before {color: black;}#sk-container-id-1 div.sk-toggleable__content {max-height: 0;max-width: 0;overflow: hidden;text-align: left;background-color: #f0f8ff;}#sk-container-id-1 div.sk-toggleable__content pre {margin: 0.2em;color: black;border-radius: 0.25em;background-color: #f0f8ff;}#sk-container-id-1 input.sk-toggleable__control:checked~div.sk-toggleable__content {max-height: 200px;max-width: 100%;overflow: auto;}#sk-container-id-1 input.sk-toggleable__control:checked~label.sk-toggleable__label-arrow:before {content: \"▾\";}#sk-container-id-1 div.sk-estimator input.sk-toggleable__control:checked~label.sk-toggleable__label {background-color: #d4ebff;}#sk-container-id-1 div.sk-label input.sk-toggleable__control:checked~label.sk-toggleable__label {background-color: #d4ebff;}#sk-container-id-1 input.sk-hidden--visually {border: 0;clip: rect(1px 1px 1px 1px);clip: rect(1px, 1px, 1px, 1px);height: 1px;margin: -1px;overflow: hidden;padding: 0;position: absolute;width: 1px;}#sk-container-id-1 div.sk-estimator {font-family: monospace;background-color: #f0f8ff;border: 1px dotted black;border-radius: 0.25em;box-sizing: border-box;margin-bottom: 0.5em;}#sk-container-id-1 div.sk-estimator:hover {background-color: #d4ebff;}#sk-container-id-1 div.sk-parallel-item::after {content: \"\";width: 100%;border-bottom: 1px solid gray;flex-grow: 1;}#sk-container-id-1 div.sk-label:hover label.sk-toggleable__label {background-color: #d4ebff;}#sk-container-id-1 div.sk-serial::before {content: \"\";position: absolute;border-left: 1px solid gray;box-sizing: border-box;top: 0;bottom: 0;left: 50%;z-index: 0;}#sk-container-id-1 div.sk-serial {display: flex;flex-direction: column;align-items: center;background-color: white;padding-right: 0.2em;padding-left: 0.2em;position: relative;}#sk-container-id-1 div.sk-item {position: relative;z-index: 1;}#sk-container-id-1 div.sk-parallel {display: flex;align-items: stretch;justify-content: center;background-color: white;position: relative;}#sk-container-id-1 div.sk-item::before, #sk-container-id-1 div.sk-parallel-item::before {content: \"\";position: absolute;border-left: 1px solid gray;box-sizing: border-box;top: 0;bottom: 0;left: 50%;z-index: -1;}#sk-container-id-1 div.sk-parallel-item {display: flex;flex-direction: column;z-index: 1;position: relative;background-color: white;}#sk-container-id-1 div.sk-parallel-item:first-child::after {align-self: flex-end;width: 50%;}#sk-container-id-1 div.sk-parallel-item:last-child::after {align-self: flex-start;width: 50%;}#sk-container-id-1 div.sk-parallel-item:only-child::after {width: 0;}#sk-container-id-1 div.sk-dashed-wrapped {border: 1px dashed gray;margin: 0 0.4em 0.5em 0.4em;box-sizing: border-box;padding-bottom: 0.4em;background-color: white;}#sk-container-id-1 div.sk-label label {font-family: monospace;font-weight: bold;display: inline-block;line-height: 1.2em;}#sk-container-id-1 div.sk-label-container {text-align: center;}#sk-container-id-1 div.sk-container {/* jupyter's `normalize.less` sets `[hidden] { display: none; }` but bootstrap.min.css set `[hidden] { display: none !important; }` so we also need the `!important` here to be able to override the default hidden behavior on the sphinx rendered scikit-learn.org. See: https://github.com/scikit-learn/scikit-learn/issues/21755 */display: inline-block !important;position: relative;}#sk-container-id-1 div.sk-text-repr-fallback {display: none;}</style><div id=\"sk-container-id-1\" class=\"sk-top-container\"><div class=\"sk-text-repr-fallback\"><pre>LinearRegression()</pre><b>In a Jupyter environment, please rerun this cell to show the HTML representation or trust the notebook. <br />On GitHub, the HTML representation is unable to render, please try loading this page with nbviewer.org.</b></div><div class=\"sk-container\" hidden><div class=\"sk-item\"><div class=\"sk-estimator sk-toggleable\"><input class=\"sk-toggleable__control sk-hidden--visually\" id=\"sk-estimator-id-1\" type=\"checkbox\" checked><label for=\"sk-estimator-id-1\" class=\"sk-toggleable__label sk-toggleable__label-arrow\">LinearRegression</label><div class=\"sk-toggleable__content\"><pre>LinearRegression()</pre></div></div></div></div></div>"
      ],
      "text/plain": [
       "LinearRegression()"
      ]
     },
     "execution_count": 15,
     "metadata": {},
     "output_type": "execute_result"
    }
   ],
   "source": [
    "reg = LinearRegression()\n",
    "reg.fit(x_train_lr, y_train_lr)"
   ]
  },
  {
   "cell_type": "code",
   "execution_count": 16,
   "id": "4c1b14cf",
   "metadata": {},
   "outputs": [
    {
     "name": "stderr",
     "output_type": "stream",
     "text": [
      "2023-07-29 11:46:10.433 \n",
      "  \u001b[33m\u001b[1mWarning:\u001b[0m to view this Streamlit app on a browser, run it with the following\n",
      "  command:\n",
      "\n",
      "    streamlit run C:\\Users\\HP Pavilion\\AppData\\Roaming\\Python\\Python311\\site-packages\\ipykernel_launcher.py [ARGUMENTS]\n",
      "C:\\Users\\HP Pavilion\\AppData\\Roaming\\Python\\Python311\\site-packages\\sklearn\\base.py:464: UserWarning: X does not have valid feature names, but LinearRegression was fitted with feature names\n",
      "  warnings.warn(\n"
     ]
    }
   ],
   "source": [
    "# Get the list of all input columns (operating settings and sensor readings)\n",
    "input_columns = ['Operating_settings_1', 'Operating_settings_2', 'Operating_settings_3',\n",
    "                 'Sensor_readings_2', 'Sensor_readings_3', 'Sensor_readings_4',\n",
    "                 'Sensor_readings_7', 'Sensor_readings_8', 'Sensor_readings_9',\n",
    "                 'Sensor_readings_11', 'Sensor_readings_12', 'Sensor_readings_13',\n",
    "                 'Sensor_readings_14', 'Sensor_readings_15', 'Sensor_readings_17',\n",
    "                 'Sensor_readings_20', 'Sensor_readings_21']\n",
    "\n",
    "# Create the Streamlit app\n",
    "st.title('Remaining Useful Life Prediction')\n",
    "st.write('Enter the operating settings and sensor readings to predict RUL:')\n",
    "\n",
    "# Create input components for users\n",
    "user_input = {}\n",
    "for column in input_columns:\n",
    "    user_input[column] = st.slider(column, min_value=0.0, max_value=1.0, value=0.5)\n",
    "\n",
    "# Prepare the user input as a DataFrame\n",
    "user_input_df = pd.DataFrame(user_input, index=[0])\n",
    "\n",
    "# Perform normalization on the user input using the MinMaxScaler\n",
    "user_input_normalized = scaler.transform(user_input_df)\n",
    "\n",
    "# Use the trained model to predict RUL\n",
    "predicted_rul = reg.predict(user_input_normalized)\n",
    "predicted_rul[predicted_rul <= 0] = 0\n",
    "\n",
    "# Display the results to the user\n",
    "st.write(f'Predicted Remaining Useful Life (RUL): {predicted_rul[0]}')\n",
    "\n",
    "# ... (continue with the rest of the code)\n"
   ]
  },
  {
   "cell_type": "code",
   "execution_count": 17,
   "id": "0d58c0d7",
   "metadata": {},
   "outputs": [],
   "source": [
    "st.set_page_config(layout=\"wide\")\n"
   ]
  },
  {
   "cell_type": "code",
   "execution_count": null,
   "id": "62cf860e",
   "metadata": {},
   "outputs": [],
   "source": []
  }
 ],
 "metadata": {
  "kernelspec": {
   "display_name": "Python 3 (ipykernel)",
   "language": "python",
   "name": "python3"
  },
  "language_info": {
   "codemirror_mode": {
    "name": "ipython",
    "version": 3
   },
   "file_extension": ".py",
   "mimetype": "text/x-python",
   "name": "python",
   "nbconvert_exporter": "python",
   "pygments_lexer": "ipython3",
   "version": "3.11.3"
  }
 },
 "nbformat": 4,
 "nbformat_minor": 5
}
